{
 "cells": [
  {
   "metadata": {},
   "cell_type": "markdown",
   "source": "## 1. Load and analyse data",
   "id": "1b48d6f137fbeb37"
  },
  {
   "cell_type": "code",
   "id": "initial_id",
   "metadata": {
    "collapsed": true,
    "ExecuteTime": {
     "end_time": "2024-10-19T19:37:54.948614Z",
     "start_time": "2024-10-19T19:37:37.025558Z"
    }
   },
   "source": [
    "import pandas as pd\n",
    "\n",
    "# Loading data\n",
    "file_path = '../data/raw/transactions_train.csv'\n",
    "data = pd.read_csv(file_path)\n",
    "\n",
    "# Check data structure\n",
    "print(data.info())\n",
    "print(data.head())"
   ],
   "outputs": [
    {
     "name": "stdout",
     "output_type": "stream",
     "text": [
      "<class 'pandas.core.frame.DataFrame'>\n",
      "RangeIndex: 31788324 entries, 0 to 31788323\n",
      "Data columns (total 5 columns):\n",
      " #   Column            Dtype  \n",
      "---  ------            -----  \n",
      " 0   t_dat             object \n",
      " 1   customer_id       object \n",
      " 2   article_id        int64  \n",
      " 3   price             float64\n",
      " 4   sales_channel_id  int64  \n",
      "dtypes: float64(1), int64(2), object(2)\n",
      "memory usage: 1.2+ GB\n",
      "None\n",
      "        t_dat                                        customer_id  article_id  \\\n",
      "0  2018-09-20  000058a12d5b43e67d225668fa1f8d618c13dc232df0ca...   663713001   \n",
      "1  2018-09-20  000058a12d5b43e67d225668fa1f8d618c13dc232df0ca...   541518023   \n",
      "2  2018-09-20  00007d2de826758b65a93dd24ce629ed66842531df6699...   505221004   \n",
      "3  2018-09-20  00007d2de826758b65a93dd24ce629ed66842531df6699...   685687003   \n",
      "4  2018-09-20  00007d2de826758b65a93dd24ce629ed66842531df6699...   685687004   \n",
      "\n",
      "      price  sales_channel_id  \n",
      "0  0.050831                 2  \n",
      "1  0.030492                 2  \n",
      "2  0.015237                 2  \n",
      "3  0.016932                 2  \n",
      "4  0.016932                 2  \n"
     ]
    }
   ],
   "execution_count": 3
  },
  {
   "metadata": {},
   "cell_type": "markdown",
   "source": [
    "## 2. Check data quality\n",
    "### 2.1. Check for missing values"
   ],
   "id": "5d5693c825f2c0bc"
  },
  {
   "metadata": {
    "ExecuteTime": {
     "end_time": "2024-10-19T19:42:48.603672Z",
     "start_time": "2024-10-19T19:42:46.511160Z"
    }
   },
   "cell_type": "code",
   "source": [
    "# Check for missing values\n",
    "missing_values = data.isnull().sum()\n",
    "print(missing_values)"
   ],
   "id": "b04fcf55482cb91a",
   "outputs": [
    {
     "name": "stdout",
     "output_type": "stream",
     "text": [
      "t_dat               0\n",
      "customer_id         0\n",
      "article_id          0\n",
      "price               0\n",
      "sales_channel_id    0\n",
      "dtype: int64\n"
     ]
    }
   ],
   "execution_count": 4
  },
  {
   "metadata": {},
   "cell_type": "markdown",
   "source": "The dataset doesn't contain missing values. ",
   "id": "b9427490e5846b2d"
  },
  {
   "metadata": {},
   "cell_type": "markdown",
   "source": [
    "### 2.2. Check for duplicate rows\n",
    "Check whether we have duplicate rows\n"
   ],
   "id": "709e0eaf7448ddd7"
  },
  {
   "metadata": {
    "ExecuteTime": {
     "end_time": "2024-10-19T19:59:31.660650Z",
     "start_time": "2024-10-19T19:59:17.832889Z"
    }
   },
   "cell_type": "code",
   "source": [
    "# Check for duplicate rows\n",
    "duplicates = data.duplicated().sum()\n",
    "print(f'Number of duplicates: {duplicates}')"
   ],
   "id": "8314e65768dfa9b7",
   "outputs": [
    {
     "name": "stdout",
     "output_type": "stream",
     "text": [
      "Number of duplicates: 2974905\n"
     ]
    }
   ],
   "execution_count": 6
  },
  {
   "metadata": {},
   "cell_type": "markdown",
   "source": "We have 2974905 duplicate rows. We need to drop duplicates as these may affect the quality of model.",
   "id": "25a3b20018a2dce5"
  },
  {
   "metadata": {
    "ExecuteTime": {
     "end_time": "2024-10-19T20:30:11.636695Z",
     "start_time": "2024-10-19T20:29:54.974398Z"
    }
   },
   "cell_type": "code",
   "source": "data_cleaned = data.drop_duplicates()",
   "id": "e39e61f98b548fc4",
   "outputs": [],
   "execution_count": 8
  },
  {
   "metadata": {},
   "cell_type": "markdown",
   "source": [
    "## 2.3 Estimating the distribution of values:\n",
    "\n",
    "Let's look at the basic statistics for columns:"
   ],
   "id": "a578b629a60f2cf7"
  },
  {
   "metadata": {
    "ExecuteTime": {
     "end_time": "2024-10-19T21:15:59.227403Z",
     "start_time": "2024-10-19T21:15:52.021372Z"
    }
   },
   "cell_type": "code",
   "source": [
    "# Basic statistics on numerical data\n",
    "print(data_cleaned.describe())\n",
    "\n",
    "# Checking for unique values in important columns\n",
    "print(f\"Unique customer_id: {data_cleaned['customer_id'].nunique()}\")\n",
    "print(f\"Unique article_id: {data_cleaned['article_id'].nunique()}\")"
   ],
   "id": "8d31b59863209833",
   "outputs": [
    {
     "name": "stdout",
     "output_type": "stream",
     "text": [
      "         article_id         price  sales_channel_id\n",
      "count  2.881342e+07  2.881342e+07      2.881342e+07\n",
      "mean   6.971462e+08  2.772868e-02      1.683251e+00\n",
      "std    1.321538e+08  1.910103e-02      4.652085e-01\n",
      "min    1.087750e+08  1.694915e-05      1.000000e+00\n",
      "25%    6.331520e+08  1.567797e-02      1.000000e+00\n",
      "50%    7.147900e+08  2.540678e-02      2.000000e+00\n",
      "75%    7.871530e+08  3.388136e-02      2.000000e+00\n",
      "max    9.562170e+08  5.915254e-01      2.000000e+00\n",
      "Unique customer_id: 1362281\n",
      "Unique article_id: 104547\n"
     ]
    }
   ],
   "execution_count": 12
  },
  {
   "metadata": {},
   "cell_type": "markdown",
   "source": [
    "## 3. Filtering 50,000 unique customer_ids:\n",
    "\n",
    "Let's create a sample based on a random 50,000 unique customers."
   ],
   "id": "1f3666d38f3ef9d6"
  },
  {
   "metadata": {
    "ExecuteTime": {
     "end_time": "2024-10-19T21:33:30.770873Z",
     "start_time": "2024-10-19T21:33:22.776822Z"
    }
   },
   "cell_type": "code",
   "source": [
    "# Filter 50,000 unique customer_id\n",
    "unique_customers = data_cleaned['customer_id'].drop_duplicates().sample(50000, random_state=42)\n",
    "\n",
    "# Filter the original dataset by the selected customer_id\n",
    "sample_data = data_cleaned[data_cleaned['customer_id'].isin(unique_customers)]\n",
    "\n",
    "# Checking sample information\n",
    "print(sample_data.info())\n",
    "\n",
    "# Save sample dataset\n",
    "sample_data.to_csv('../data/processed/sample_transactions.csv', index=False)"
   ],
   "id": "ed36fb63e19ec346",
   "outputs": [
    {
     "name": "stdout",
     "output_type": "stream",
     "text": [
      "<class 'pandas.core.frame.DataFrame'>\n",
      "Index: 1060255 entries, 97 to 31788221\n",
      "Data columns (total 5 columns):\n",
      " #   Column            Non-Null Count    Dtype  \n",
      "---  ------            --------------    -----  \n",
      " 0   t_dat             1060255 non-null  object \n",
      " 1   customer_id       1060255 non-null  object \n",
      " 2   article_id        1060255 non-null  int64  \n",
      " 3   price             1060255 non-null  float64\n",
      " 4   sales_channel_id  1060255 non-null  int64  \n",
      "dtypes: float64(1), int64(2), object(2)\n",
      "memory usage: 48.5+ MB\n",
      "None\n"
     ]
    }
   ],
   "execution_count": 15
  },
  {
   "metadata": {
    "ExecuteTime": {
     "end_time": "2024-10-19T21:33:12.552971Z",
     "start_time": "2024-10-19T21:33:12.549045Z"
    }
   },
   "cell_type": "code",
   "source": "",
   "id": "342a7829ea69b411",
   "outputs": [],
   "execution_count": 14
  },
  {
   "metadata": {},
   "cell_type": "code",
   "outputs": [],
   "execution_count": null,
   "source": "",
   "id": "dc3cab070d28c5d2"
  }
 ],
 "metadata": {
  "kernelspec": {
   "display_name": "Python 3",
   "language": "python",
   "name": "python3"
  },
  "language_info": {
   "codemirror_mode": {
    "name": "ipython",
    "version": 2
   },
   "file_extension": ".py",
   "mimetype": "text/x-python",
   "name": "python",
   "nbconvert_exporter": "python",
   "pygments_lexer": "ipython2",
   "version": "2.7.6"
  }
 },
 "nbformat": 4,
 "nbformat_minor": 5
}
