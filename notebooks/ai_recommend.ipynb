{
 "cells": [
  {
   "metadata": {},
   "cell_type": "markdown",
   "source": "## 1. Load and analyse data",
   "id": "1b48d6f137fbeb37"
  },
  {
   "metadata": {},
   "cell_type": "markdown",
   "source": "## Import libraries",
   "id": "a6511ce32b6d7935"
  },
  {
   "metadata": {
    "ExecuteTime": {
     "end_time": "2024-11-25T19:07:40.052177Z",
     "start_time": "2024-11-25T19:07:37.243888Z"
    }
   },
   "cell_type": "code",
   "source": [
    "import pandas as pd\n",
    "import matplotlib.pyplot as plt"
   ],
   "id": "a6f913638eb3f15c",
   "outputs": [],
   "execution_count": 1
  },
  {
   "cell_type": "code",
   "id": "initial_id",
   "metadata": {
    "collapsed": true,
    "ExecuteTime": {
     "end_time": "2024-11-25T19:08:21.774545Z",
     "start_time": "2024-11-25T19:08:00.163047Z"
    }
   },
   "source": [
    "# Loading data\n",
    "file_path = '../data/raw/transactions_train.csv'\n",
    "data = pd.read_csv(file_path)\n",
    "\n",
    "# Check data structure\n",
    "print(data.info())\n",
    "print(data.head())\n",
    "\n",
    "# Ensure date column is in datetime format\n",
    "data['t_dat'] = pd.to_datetime(data['t_dat'])\n",
    "print(data.info())"
   ],
   "outputs": [
    {
     "name": "stdout",
     "output_type": "stream",
     "text": [
      "<class 'pandas.core.frame.DataFrame'>\n",
      "RangeIndex: 31788324 entries, 0 to 31788323\n",
      "Data columns (total 5 columns):\n",
      " #   Column            Dtype  \n",
      "---  ------            -----  \n",
      " 0   t_dat             object \n",
      " 1   customer_id       object \n",
      " 2   article_id        int64  \n",
      " 3   price             float64\n",
      " 4   sales_channel_id  int64  \n",
      "dtypes: float64(1), int64(2), object(2)\n",
      "memory usage: 1.2+ GB\n",
      "None\n",
      "        t_dat                                        customer_id  article_id  \\\n",
      "0  2018-09-20  000058a12d5b43e67d225668fa1f8d618c13dc232df0ca...   663713001   \n",
      "1  2018-09-20  000058a12d5b43e67d225668fa1f8d618c13dc232df0ca...   541518023   \n",
      "2  2018-09-20  00007d2de826758b65a93dd24ce629ed66842531df6699...   505221004   \n",
      "3  2018-09-20  00007d2de826758b65a93dd24ce629ed66842531df6699...   685687003   \n",
      "4  2018-09-20  00007d2de826758b65a93dd24ce629ed66842531df6699...   685687004   \n",
      "\n",
      "      price  sales_channel_id  \n",
      "0  0.050831                 2  \n",
      "1  0.030492                 2  \n",
      "2  0.015237                 2  \n",
      "3  0.016932                 2  \n",
      "4  0.016932                 2  \n",
      "<class 'pandas.core.frame.DataFrame'>\n",
      "RangeIndex: 31788324 entries, 0 to 31788323\n",
      "Data columns (total 5 columns):\n",
      " #   Column            Dtype         \n",
      "---  ------            -----         \n",
      " 0   t_dat             datetime64[ns]\n",
      " 1   customer_id       object        \n",
      " 2   article_id        int64         \n",
      " 3   price             float64       \n",
      " 4   sales_channel_id  int64         \n",
      "dtypes: datetime64[ns](1), float64(1), int64(2), object(1)\n",
      "memory usage: 1.2+ GB\n",
      "None\n"
     ]
    }
   ],
   "execution_count": 2
  },
  {
   "metadata": {},
   "cell_type": "markdown",
   "source": [
    "## 2. Check data quality\n",
    "### 2.1. Check for missing values"
   ],
   "id": "5d5693c825f2c0bc"
  },
  {
   "metadata": {
    "ExecuteTime": {
     "end_time": "2024-10-29T20:39:03.765527Z",
     "start_time": "2024-10-29T20:39:02.689310Z"
    }
   },
   "cell_type": "code",
   "source": [
    "# Check for missing values\n",
    "missing_values = data.isnull().sum()\n",
    "print(missing_values)"
   ],
   "id": "b04fcf55482cb91a",
   "outputs": [
    {
     "name": "stdout",
     "output_type": "stream",
     "text": [
      "t_dat               0\n",
      "customer_id         0\n",
      "article_id          0\n",
      "price               0\n",
      "sales_channel_id    0\n",
      "dtype: int64\n"
     ]
    }
   ],
   "execution_count": 3
  },
  {
   "metadata": {},
   "cell_type": "markdown",
   "source": "The dataset doesn't contain missing values. ",
   "id": "b9427490e5846b2d"
  },
  {
   "metadata": {},
   "cell_type": "markdown",
   "source": [
    "### 2.2. Check for duplicate rows\n",
    "Check whether we have duplicate rows\n"
   ],
   "id": "709e0eaf7448ddd7"
  },
  {
   "metadata": {
    "ExecuteTime": {
     "end_time": "2024-10-29T20:39:13.264860Z",
     "start_time": "2024-10-29T20:39:03.769695Z"
    }
   },
   "cell_type": "code",
   "source": [
    "# Check for duplicate rows\n",
    "duplicates = data.duplicated().sum()\n",
    "print(f'Number of duplicates: {duplicates}')"
   ],
   "id": "8314e65768dfa9b7",
   "outputs": [
    {
     "name": "stdout",
     "output_type": "stream",
     "text": [
      "Number of duplicates: 2974905\n"
     ]
    }
   ],
   "execution_count": 4
  },
  {
   "metadata": {},
   "cell_type": "markdown",
   "source": [
    "## 2.3 Estimating the distribution of values:\n",
    "\n",
    "Let's look at the basic statistics for columns:"
   ],
   "id": "a578b629a60f2cf7"
  },
  {
   "metadata": {
    "ExecuteTime": {
     "end_time": "2024-10-29T20:39:20.242265Z",
     "start_time": "2024-10-29T20:39:13.266039Z"
    }
   },
   "cell_type": "code",
   "source": [
    "# Basic statistics on numerical data\n",
    "print(data.describe())\n",
    "\n",
    "# Checking for unique values in important columns\n",
    "print(f\"Unique customer_id: {data['customer_id'].nunique()}\")\n",
    "print(f\"Unique article_id: {data['article_id'].nunique()}\")"
   ],
   "id": "8d31b59863209833",
   "outputs": [
    {
     "name": "stdout",
     "output_type": "stream",
     "text": [
      "                               t_dat    article_id         price  \\\n",
      "count                       31788324  3.178832e+07  3.178832e+07   \n",
      "mean   2019-09-15 17:27:46.894452992  6.962272e+08  2.782927e-02   \n",
      "min              2018-09-20 00:00:00  1.087750e+08  1.694915e-05   \n",
      "25%              2019-03-28 00:00:00  6.328030e+08  1.581356e-02   \n",
      "50%              2019-08-25 00:00:00  7.145820e+08  2.540678e-02   \n",
      "75%              2020-03-29 00:00:00  7.865240e+08  3.388136e-02   \n",
      "max              2020-09-22 00:00:00  9.562170e+08  5.915254e-01   \n",
      "std                              NaN  1.334480e+08  1.918113e-02   \n",
      "\n",
      "       sales_channel_id  \n",
      "count      3.178832e+07  \n",
      "mean       1.704028e+00  \n",
      "min        1.000000e+00  \n",
      "25%        1.000000e+00  \n",
      "50%        2.000000e+00  \n",
      "75%        2.000000e+00  \n",
      "max        2.000000e+00  \n",
      "std        4.564786e-01  \n",
      "Unique customer_id: 1362281\n",
      "Unique article_id: 104547\n"
     ]
    }
   ],
   "execution_count": 5
  },
  {
   "metadata": {},
   "cell_type": "markdown",
   "source": [
    "## 3. Filtering 50,000 unique customer_ids:\n",
    "\n",
    "Let's create a sample based on a random 50,000 unique customers."
   ],
   "id": "1f3666d38f3ef9d6"
  },
  {
   "metadata": {
    "ExecuteTime": {
     "end_time": "2024-10-30T14:24:55.024973Z",
     "start_time": "2024-10-30T14:24:43.742994Z"
    }
   },
   "cell_type": "code",
   "source": [
    "# Filter 50,000 unique customer_id\n",
    "#unique_customers = data['customer_id'].drop_duplicates().sample(50000, random_state=42)\n",
    "unique_customers = data['customer_id'].drop_duplicates().sample(15000, random_state=42)\n",
    "\n",
    "# Filter the original dataset by the selected customer_id\n",
    "sample_data = data[data['customer_id'].isin(unique_customers)]\n",
    "\n",
    "# Checking sample information\n",
    "print(sample_data.info())\n",
    "print(f\"Unique customer_id: {sample_data['customer_id'].nunique()}\")\n",
    "\n",
    "# Save sample dataset\n",
    "sample_data.to_csv('../data/processed/sample_transactions.csv', index=False)"
   ],
   "id": "ed36fb63e19ec346",
   "outputs": [
    {
     "name": "stdout",
     "output_type": "stream",
     "text": [
      "<class 'pandas.core.frame.DataFrame'>\n",
      "Index: 346847 entries, 247 to 31787489\n",
      "Data columns (total 5 columns):\n",
      " #   Column            Non-Null Count   Dtype         \n",
      "---  ------            --------------   -----         \n",
      " 0   t_dat             346847 non-null  datetime64[ns]\n",
      " 1   customer_id       346847 non-null  object        \n",
      " 2   article_id        346847 non-null  int64         \n",
      " 3   price             346847 non-null  float64       \n",
      " 4   sales_channel_id  346847 non-null  int64         \n",
      "dtypes: datetime64[ns](1), float64(1), int64(2), object(1)\n",
      "memory usage: 15.9+ MB\n",
      "None\n",
      "Unique customer_id: 15000\n"
     ]
    }
   ],
   "execution_count": 18
  },
  {
   "metadata": {},
   "cell_type": "markdown",
   "source": "Examine one user and all his transactions",
   "id": "889fccbf7e40354e"
  },
  {
   "metadata": {
    "ExecuteTime": {
     "end_time": "2024-10-29T20:39:39.667514Z",
     "start_time": "2024-10-29T20:39:27.472581Z"
    }
   },
   "cell_type": "code",
   "source": [
    "# Step 1: Group by customer_id and date (to define sessions)\n",
    "# Count the number of items in each session\n",
    "session_counts = data.groupby(['customer_id', 't_dat']).size().reset_index(name='items_per_session')"
   ],
   "id": "3de567156719202e",
   "outputs": [],
   "execution_count": 7
  },
  {
   "metadata": {
    "ExecuteTime": {
     "end_time": "2024-10-29T20:44:15.787058Z",
     "start_time": "2024-10-29T20:44:04.534597Z"
    }
   },
   "cell_type": "code",
   "source": [
    "# Save dataset\n",
    "session_counts.to_csv('../data/processed/session_counts.csv', index=False)"
   ],
   "id": "9ae6daa69a15a24e",
   "outputs": [],
   "execution_count": 9
  },
  {
   "metadata": {
    "ExecuteTime": {
     "end_time": "2024-10-29T21:04:59.342914Z",
     "start_time": "2024-10-29T21:04:59.094275Z"
    }
   },
   "cell_type": "code",
   "source": [
    "# Step 2: Calculate the distribution of items per session\n",
    "#item_distribution = session_counts['items_per_session'].value_counts().sort_index()\n",
    "# Calculate the distribution of items per session\n",
    "# Create a DataFrame that includes count of sessions for each number of items per session\n",
    "item_distribution = session_counts['items_per_session'].value_counts().sort_index().reset_index()\n",
    "item_distribution.columns = ['items_per_session', 'count_of_sessions']\n",
    "\n",
    "\n",
    "print(item_distribution.info())\n",
    "print(item_distribution.tail())\n",
    "print(item_distribution.describe())"
   ],
   "id": "40f55bf891c082b2",
   "outputs": [
    {
     "name": "stdout",
     "output_type": "stream",
     "text": [
      "<class 'pandas.core.frame.DataFrame'>\n",
      "RangeIndex: 152 entries, 0 to 151\n",
      "Data columns (total 2 columns):\n",
      " #   Column             Non-Null Count  Dtype\n",
      "---  ------             --------------  -----\n",
      " 0   items_per_session  152 non-null    int64\n",
      " 1   count_of_sessions  152 non-null    int64\n",
      "dtypes: int64(2)\n",
      "memory usage: 2.5 KB\n",
      "None\n",
      "     items_per_session  count_of_sessions\n",
      "147                199                  1\n",
      "148                220                  1\n",
      "149                221                  1\n",
      "150                336                  1\n",
      "151                570                  1\n",
      "       items_per_session  count_of_sessions\n",
      "count         152.000000       1.520000e+02\n",
      "mean           85.480263       5.973802e+04\n",
      "std            68.304535       3.076907e+05\n",
      "min             1.000000       1.000000e+00\n",
      "25%            38.750000       1.750000e+00\n",
      "50%            76.500000       1.050000e+01\n",
      "75%           114.250000       5.007500e+02\n",
      "max           570.000000       2.687043e+06\n"
     ]
    }
   ],
   "execution_count": 15
  },
  {
   "metadata": {
    "ExecuteTime": {
     "end_time": "2024-10-29T21:05:16.592999Z",
     "start_time": "2024-10-29T21:05:16.575935Z"
    }
   },
   "cell_type": "code",
   "source": [
    "# Save dataset\n",
    "item_distribution.to_csv('../data/processed/item_distribution.csv', index=False)"
   ],
   "id": "7f5d633d16f3e8eb",
   "outputs": [],
   "execution_count": 16
  },
  {
   "metadata": {
    "ExecuteTime": {
     "end_time": "2024-10-29T20:50:41.287793Z",
     "start_time": "2024-10-29T20:50:40.800757Z"
    }
   },
   "cell_type": "code",
   "source": [
    "# Step 3: Plot the distribution\n",
    "plt.figure(figsize=(12, 6))\n",
    "item_distribution.plot(kind='bar', color='skyblue', edgecolor='black')\n",
    "#session_counts.plot(kind='bar', color='skyblue', edgecolor='black')\n",
    "plt.title('Distribution of Items per Session')\n",
    "plt.xlabel('Number of Items per Session')\n",
    "plt.ylabel('Count of Sessions')\n",
    "plt.xticks(rotation=0)\n",
    "plt.show()"
   ],
   "id": "342a7829ea69b411",
   "outputs": [
    {
     "data": {
      "text/plain": [
       "<Figure size 1200x600 with 1 Axes>"
      ],
      "image/png": "[encoded data removed]"
     },
     "metadata": {},
     "output_type": "display_data"
    }
   ],
   "execution_count": 12
  },
  {
   "metadata": {
    "ExecuteTime": {
     "end_time": "2024-10-29T20:09:24.740926Z",
     "start_time": "2024-10-29T20:09:20.381643Z"
    }
   },
   "cell_type": "code",
   "source": [
    "print(session_counts.info())\n",
    "print(session_counts.head())\n",
    "print(session_counts.describe())\n",
    "print(session_counts.groupby('customer_id').size())"
   ],
   "id": "a665881b71fd42d2",
   "outputs": [
    {
     "name": "stdout",
     "output_type": "stream",
     "text": [
      "<class 'pandas.core.frame.DataFrame'>\n",
      "RangeIndex: 9080179 entries, 0 to 9080178\n",
      "Data columns (total 3 columns):\n",
      " #   Column             Dtype         \n",
      "---  ------             -----         \n",
      " 0   customer_id        object        \n",
      " 1   t_dat              datetime64[ns]\n",
      " 2   items_per_session  int64         \n",
      "dtypes: datetime64[ns](1), int64(1), object(1)\n",
      "memory usage: 207.8+ MB\n",
      "None\n",
      "                                         customer_id      t_dat  \\\n",
      "0  00000dbacae5abe5e23885899a1fa44253a17956c6d1c3... 2018-12-27   \n",
      "1  00000dbacae5abe5e23885899a1fa44253a17956c6d1c3... 2019-05-02   \n",
      "2  00000dbacae5abe5e23885899a1fa44253a17956c6d1c3... 2019-05-25   \n",
      "3  00000dbacae5abe5e23885899a1fa44253a17956c6d1c3... 2019-07-25   \n",
      "4  00000dbacae5abe5e23885899a1fa44253a17956c6d1c3... 2019-09-18   \n",
      "\n",
      "   items_per_session  \n",
      "0                  3  \n",
      "1                  1  \n",
      "2                  2  \n",
      "3                  2  \n",
      "4                  1  \n",
      "                               t_dat  items_per_session\n",
      "count                        9080179       9.080179e+06\n",
      "mean   2019-09-16 13:33:51.632240128       3.500848e+00\n",
      "min              2018-09-20 00:00:00       1.000000e+00\n",
      "25%              2019-03-22 00:00:00       1.000000e+00\n",
      "50%              2019-09-07 00:00:00       2.000000e+00\n",
      "75%              2020-03-22 00:00:00       4.000000e+00\n",
      "max              2020-09-22 00:00:00       5.700000e+02\n",
      "std                              NaN       3.619618e+00\n",
      "customer_id\n",
      "00000dbacae5abe5e23885899a1fa44253a17956c6d1c3d25f88aa139fdfc657    10\n",
      "0000423b00ade91418cceaf3b26c6af3dd342b51fd051eec9c12fb36984420fa    23\n",
      "000058a12d5b43e67d225668fa1f8d618c13dc232df0cad8ffe7ad4a1091e318     7\n",
      "00005ca1c9ed5f5146b52ac8639a40ca9d57aeff4d1bd2c5feb1ca5dff07c43e     1\n",
      "00006413d8573cd20ed7128e53b7b13819fe5cfc2d801fe7fc0f26dd8d65a85a     6\n",
      "                                                                    ..\n",
      "ffffbbf78b6eaac697a8a5dfbfd2bfa8113ee5b403e4747568cac33e8c541831    11\n",
      "ffffcd5046a6143d29a04fb8c424ce494a76e5cdf4fab53481233731b5c4f8b7    19\n",
      "ffffcf35913a0bee60e8741cb2b4e78b8a98ee5ff2e6a1778d0116cffd259264    19\n",
      "ffffd7744cebcf3aca44ae7049d2a94b87074c3d4ffe38b2236865d949d4df6a     4\n",
      "ffffd9ac14e89946416d80e791d064701994755c3ab686a1eaf3458c36f52241     1\n",
      "Length: 1362281, dtype: int64\n"
     ]
    }
   ],
   "execution_count": 20
  },
  {
   "metadata": {
    "ExecuteTime": {
     "end_time": "2024-10-30T14:21:39.545967Z",
     "start_time": "2024-10-30T14:21:34.134705Z"
    }
   },
   "cell_type": "code",
   "source": [
    "# Find the number of unique users who had exactly one item in a session\n",
    "single_item_sessions = session_counts[session_counts['items_per_session'] == 1]\n",
    "unique_users_with_one_item = single_item_sessions['customer_id'].nunique()\n",
    "\n",
    "print(\"Number of unique users with just one item:\", unique_users_with_one_item)"
   ],
   "id": "fcaac1bd30938dff",
   "outputs": [
    {
     "name": "stdout",
     "output_type": "stream",
     "text": [
      "Number of unique users with just one item: 804598\n"
     ]
    }
   ],
   "execution_count": 17
  },
  {
   "metadata": {},
   "cell_type": "code",
   "outputs": [],
   "execution_count": null,
   "source": "",
   "id": "5e5f6367b93c366"
  }
 ],
 "metadata": {
  "kernelspec": {
   "display_name": "Python 3",
   "language": "python",
   "name": "python3"
  },
  "language_info": {
   "codemirror_mode": {
    "name": "ipython",
    "version": 2
   },
   "file_extension": ".py",
   "mimetype": "text/x-python",
   "name": "python",
   "nbconvert_exporter": "python",
   "pygments_lexer": "ipython2",
   "version": "2.7.6"
  }
 },
 "nbformat": 4,
 "nbformat_minor": 5
}
