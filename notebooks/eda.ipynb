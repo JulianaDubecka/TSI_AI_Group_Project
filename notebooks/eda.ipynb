{
 "cells": [
  {
   "metadata": {},
   "cell_type": "markdown",
   "source": "## 1. Load and analyse data",
   "id": "1b48d6f137fbeb37"
  },
  {
   "metadata": {},
   "cell_type": "markdown",
   "source": "Import libraries",
   "id": "a6511ce32b6d7935"
  },
  {
   "metadata": {
    "ExecuteTime": {
     "end_time": "2024-12-26T19:11:05.375006Z",
     "start_time": "2024-12-26T19:11:04.683351Z"
    }
   },
   "cell_type": "code",
   "source": [
    "import pandas as pd\n",
    "import matplotlib.pyplot as plt"
   ],
   "id": "a6f913638eb3f15c",
   "outputs": [],
   "execution_count": 2
  },
  {
   "cell_type": "code",
   "id": "initial_id",
   "metadata": {
    "collapsed": true,
    "ExecuteTime": {
     "end_time": "2024-12-26T19:11:26.100622Z",
     "start_time": "2024-12-26T19:11:05.375973Z"
    }
   },
   "source": [
    "# Loading data\n",
    "file_path = '../data/raw/transactions_train.csv'\n",
    "data = pd.read_csv(file_path)\n",
    "\n",
    "# Check data structure\n",
    "print(data.info())\n",
    "print(data.head())\n",
    "\n",
    "# Ensure date column is in datetime format\n",
    "data['t_dat'] = pd.to_datetime(data['t_dat'])\n",
    "print(data.info())"
   ],
   "outputs": [
    {
     "name": "stdout",
     "output_type": "stream",
     "text": [
      "<class 'pandas.core.frame.DataFrame'>\n",
      "RangeIndex: 31788324 entries, 0 to 31788323\n",
      "Data columns (total 5 columns):\n",
      " #   Column            Dtype  \n",
      "---  ------            -----  \n",
      " 0   t_dat             object \n",
      " 1   customer_id       object \n",
      " 2   article_id        int64  \n",
      " 3   price             float64\n",
      " 4   sales_channel_id  int64  \n",
      "dtypes: float64(1), int64(2), object(2)\n",
      "memory usage: 1.2+ GB\n",
      "None\n",
      "        t_dat                                        customer_id  article_id  \\\n",
      "0  2018-09-20  000058a12d5b43e67d225668fa1f8d618c13dc232df0ca...   663713001   \n",
      "1  2018-09-20  000058a12d5b43e67d225668fa1f8d618c13dc232df0ca...   541518023   \n",
      "2  2018-09-20  00007d2de826758b65a93dd24ce629ed66842531df6699...   505221004   \n",
      "3  2018-09-20  00007d2de826758b65a93dd24ce629ed66842531df6699...   685687003   \n",
      "4  2018-09-20  00007d2de826758b65a93dd24ce629ed66842531df6699...   685687004   \n",
      "\n",
      "      price  sales_channel_id  \n",
      "0  0.050831                 2  \n",
      "1  0.030492                 2  \n",
      "2  0.015237                 2  \n",
      "3  0.016932                 2  \n",
      "4  0.016932                 2  \n",
      "<class 'pandas.core.frame.DataFrame'>\n",
      "RangeIndex: 31788324 entries, 0 to 31788323\n",
      "Data columns (total 5 columns):\n",
      " #   Column            Dtype         \n",
      "---  ------            -----         \n",
      " 0   t_dat             datetime64[ns]\n",
      " 1   customer_id       object        \n",
      " 2   article_id        int64         \n",
      " 3   price             float64       \n",
      " 4   sales_channel_id  int64         \n",
      "dtypes: datetime64[ns](1), float64(1), int64(2), object(1)\n",
      "memory usage: 1.2+ GB\n",
      "None\n"
     ]
    }
   ],
   "execution_count": 3
  },
  {
   "metadata": {},
   "cell_type": "markdown",
   "source": [
    "## 2. Check data quality\n",
    "### 2.1. Check for missing values"
   ],
   "id": "5d5693c825f2c0bc"
  },
  {
   "metadata": {
    "ExecuteTime": {
     "end_time": "2024-12-26T19:11:27.397898Z",
     "start_time": "2024-12-26T19:11:26.102447Z"
    }
   },
   "cell_type": "code",
   "source": [
    "# Check for missing values\n",
    "missing_values = data.isnull().sum()\n",
    "print(missing_values)"
   ],
   "id": "b04fcf55482cb91a",
   "outputs": [
    {
     "name": "stdout",
     "output_type": "stream",
     "text": [
      "t_dat               0\n",
      "customer_id         0\n",
      "article_id          0\n",
      "price               0\n",
      "sales_channel_id    0\n",
      "dtype: int64\n"
     ]
    }
   ],
   "execution_count": 4
  },
  {
   "metadata": {},
   "cell_type": "markdown",
   "source": "The dataset doesn't contain missing values. ",
   "id": "b9427490e5846b2d"
  },
  {
   "metadata": {},
   "cell_type": "markdown",
   "source": [
    "### 2.2. Check for duplicate rows\n",
    "Check whether we have duplicate rows\n"
   ],
   "id": "709e0eaf7448ddd7"
  },
  {
   "metadata": {
    "ExecuteTime": {
     "end_time": "2024-12-26T19:11:37.260454Z",
     "start_time": "2024-12-26T19:11:27.402478Z"
    }
   },
   "cell_type": "code",
   "source": [
    "# Check for duplicate rows\n",
    "duplicates = data.duplicated().sum()\n",
    "print(f'Number of duplicates: {duplicates}')"
   ],
   "id": "8314e65768dfa9b7",
   "outputs": [
    {
     "name": "stdout",
     "output_type": "stream",
     "text": [
      "Number of duplicates: 2974905\n"
     ]
    }
   ],
   "execution_count": 5
  },
  {
   "metadata": {},
   "cell_type": "markdown",
   "source": "As per dataset description, duplicate rows could indicate that a user has bought the same item multiple times.",
   "id": "49f5cf3b86c444de"
  },
  {
   "metadata": {},
   "cell_type": "markdown",
   "source": [
    "## 2.3 Estimating the distribution of values:\n",
    "\n",
    "Let's look at the basic statistics for columns:"
   ],
   "id": "a578b629a60f2cf7"
  },
  {
   "metadata": {
    "ExecuteTime": {
     "end_time": "2024-12-26T19:11:44.301228Z",
     "start_time": "2024-12-26T19:11:37.261525Z"
    }
   },
   "cell_type": "code",
   "source": [
    "# Basic statistics on numerical data\n",
    "print(data.describe())\n",
    "\n",
    "# Checking for unique values in important columns\n",
    "print(f\"Unique customer_id: {data['customer_id'].nunique()}\")\n",
    "print(f\"Unique article_id: {data['article_id'].nunique()}\")"
   ],
   "id": "8d31b59863209833",
   "outputs": [
    {
     "name": "stdout",
     "output_type": "stream",
     "text": [
      "                               t_dat    article_id         price  \\\n",
      "count                       31788324  3.178832e+07  3.178832e+07   \n",
      "mean   2019-09-15 17:27:46.894452992  6.962272e+08  2.782927e-02   \n",
      "min              2018-09-20 00:00:00  1.087750e+08  1.694915e-05   \n",
      "25%              2019-03-28 00:00:00  6.328030e+08  1.581356e-02   \n",
      "50%              2019-08-25 00:00:00  7.145820e+08  2.540678e-02   \n",
      "75%              2020-03-29 00:00:00  7.865240e+08  3.388136e-02   \n",
      "max              2020-09-22 00:00:00  9.562170e+08  5.915254e-01   \n",
      "std                              NaN  1.334480e+08  1.918113e-02   \n",
      "\n",
      "       sales_channel_id  \n",
      "count      3.178832e+07  \n",
      "mean       1.704028e+00  \n",
      "min        1.000000e+00  \n",
      "25%        1.000000e+00  \n",
      "50%        2.000000e+00  \n",
      "75%        2.000000e+00  \n",
      "max        2.000000e+00  \n",
      "std        4.564786e-01  \n",
      "Unique customer_id: 1362281\n",
      "Unique article_id: 104547\n"
     ]
    }
   ],
   "execution_count": 6
  },
  {
   "metadata": {
    "ExecuteTime": {
     "end_time": "2024-12-26T19:11:53.614972Z",
     "start_time": "2024-12-26T19:11:44.302380Z"
    }
   },
   "cell_type": "code",
   "source": [
    "# Step 1: Group by customer_id and date (to define sessions)\n",
    "# Count the number of items in each session\n",
    "session_counts = data.groupby(['customer_id', 't_dat']).size().reset_index(name='items_per_session')"
   ],
   "id": "3de567156719202e",
   "outputs": [],
   "execution_count": 7
  },
  {
   "metadata": {
    "ExecuteTime": {
     "end_time": "2024-12-26T20:27:47.234169Z",
     "start_time": "2024-12-26T20:27:46.867651Z"
    }
   },
   "cell_type": "code",
   "source": [
    "# Step 2: Calculate the distribution of items per session\n",
    "#item_distribution = session_counts['items_per_session'].value_counts().sort_index()\n",
    "# Calculate the distribution of items per session\n",
    "# Create a DataFrame that includes count of sessions for each number of items per session\n",
    "item_distribution = session_counts['items_per_session'].value_counts().sort_index().reset_index()\n",
    "item_distribution.columns = ['items_per_session', 'count_of_sessions']\n",
    "\n",
    "\n",
    "print(item_distribution.info())\n",
    "print(item_distribution.head())\n",
    "print(item_distribution.tail())\n",
    "print(item_distribution.describe())"
   ],
   "id": "40f55bf891c082b2",
   "outputs": [
    {
     "name": "stdout",
     "output_type": "stream",
     "text": [
      "<class 'pandas.core.frame.DataFrame'>\n",
      "RangeIndex: 152 entries, 0 to 151\n",
      "Data columns (total 2 columns):\n",
      " #   Column             Non-Null Count  Dtype\n",
      "---  ------             --------------  -----\n",
      " 0   items_per_session  152 non-null    int64\n",
      " 1   count_of_sessions  152 non-null    int64\n",
      "dtypes: int64(2)\n",
      "memory usage: 2.5 KB\n",
      "None\n",
      "   items_per_session  count_of_sessions\n",
      "0                  1            2687043\n",
      "1                  2            2120525\n",
      "2                  3            1308634\n",
      "3                  4             883951\n",
      "4                  5             553178\n",
      "     items_per_session  count_of_sessions\n",
      "147                199                  1\n",
      "148                220                  1\n",
      "149                221                  1\n",
      "150                336                  1\n",
      "151                570                  1\n",
      "       items_per_session  count_of_sessions\n",
      "count         152.000000       1.520000e+02\n",
      "mean           85.480263       5.973802e+04\n",
      "std            68.304535       3.076907e+05\n",
      "min             1.000000       1.000000e+00\n",
      "25%            38.750000       1.750000e+00\n",
      "50%            76.500000       1.050000e+01\n",
      "75%           114.250000       5.007500e+02\n",
      "max           570.000000       2.687043e+06\n"
     ]
    }
   ],
   "execution_count": 19
  },
  {
   "metadata": {},
   "cell_type": "markdown",
   "source": [
    "This DataFrame represents aggregated session data. It shows how many sessions had a specific number of items.\n",
    "\n",
    "The average number of items per session is approximately 85. The average count of sessions is 59,738"
   ],
   "id": "b60198c8ce4c1436"
  },
  {
   "metadata": {},
   "cell_type": "markdown",
   "source": "## 3. Visualize the distribution of items per session",
   "id": "fc493fa71c6d1d42"
  },
  {
   "metadata": {
    "ExecuteTime": {
     "end_time": "2024-12-26T20:24:48.203935Z",
     "start_time": "2024-12-26T20:24:48.041930Z"
    }
   },
   "cell_type": "code",
   "source": [
    "import matplotlib.pyplot as plt\n",
    "import numpy as np\n",
    "import pandas as pd\n",
    "\n",
    "# Assuming your data is in a DataFrame named `item_distribution` and the column with items per session is named `items_per_session`\n",
    "\n",
    "# Calculate the number of bins\n",
    "num_bins = 50  # Example: 30 bins\n",
    "\n",
    "# Create bins\n",
    "bins = np.linspace(item_distribution['items_per_session'].min(), item_distribution['items_per_session'].max(), num_bins + 1)\n",
    "\n",
    "# Count items per bin\n",
    "item_bin_distribution = item_distribution['items_per_session'].value_counts(bins=bins).sort_index()\n",
    "\n",
    "# Plotting (using histogram for continuous-like data)\n",
    "plt.figure(figsize=(10, 6))\n",
    "plt.hist(item_distribution['items_per_session'], bins=bins, edgecolor='black', color='skyblue')\n",
    "plt.title('Distribution of Items per Session (Histogram)')\n",
    "plt.xlabel('Number of Items per Session')\n",
    "plt.ylabel('Number of Sessions')\n",
    "plt.xticks(rotation=45, ha='right')  # Rotate x-axis labels if needed\n",
    "plt.tight_layout()\n",
    "plt.show()"
   ],
   "id": "342a7829ea69b411",
   "outputs": [
    {
     "data": {
      "text/plain": [
       "<Figure size 1000x600 with 1 Axes>"
      ],
      "image/png": "[encoded data removed]"
     },
     "metadata": {},
     "output_type": "display_data"
    }
   ],
   "execution_count": 18
  }
 ],
 "metadata": {
  "kernelspec": {
   "display_name": "Python 3",
   "language": "python",
   "name": "python3"
  },
  "language_info": {
   "codemirror_mode": {
    "name": "ipython",
    "version": 2
   },
   "file_extension": ".py",
   "mimetype": "text/x-python",
   "name": "python",
   "nbconvert_exporter": "python",
   "pygments_lexer": "ipython2",
   "version": "2.7.6"
  }
 },
 "nbformat": 4,
 "nbformat_minor": 5
}
